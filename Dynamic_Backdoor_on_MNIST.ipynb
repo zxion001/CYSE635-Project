{
  "nbformat": 4,
  "nbformat_minor": 0,
  "metadata": {
    "colab": {
      "provenance": []
    },
    "kernelspec": {
      "name": "python3",
      "display_name": "Python 3"
    },
    "language_info": {
      "name": "python"
    },
    "accelerator": "GPU"
  },
  "cells": [
    {
      "cell_type": "code",
      "execution_count": null,
      "metadata": {
        "colab": {
          "base_uri": "https://localhost:8080/"
        },
        "id": "fYPJsZvqojnz",
        "outputId": "b3814b80-6078-45d3-bb33-72e128b2c625"
      },
      "outputs": [
        {
          "output_type": "stream",
          "name": "stderr",
          "text": [
            "/usr/local/lib/python3.7/dist-packages/torch/utils/data/dataloader.py:490: UserWarning: This DataLoader will create 4 worker processes in total. Our suggested max number of worker in current system is 2, which is smaller than what this DataLoader is going to create. Please be aware that excessive worker creation might get DataLoader running slow or even freeze, lower the worker number to avoid potential slowness/freeze if necessary.\n",
            "  cpuset_checked))\n"
          ]
        }
      ],
      "source": [
        "import torch\n",
        "import torch.nn as nn\n",
        "from torch.utils.data import DataLoader\n",
        "import torchvision.transforms as transforms\n",
        "import torchvision.datasets\n",
        "from torch.utils.data import Subset\n",
        "from torch.autograd import Variable\n",
        "import matplotlib.pyplot as plt\n",
        "import numpy as np\n",
        "import torch.nn.functional as F\n",
        "\n",
        "# define the function of displaying multiple images\n",
        "def show_images(images) -> None:\n",
        "    n: int = images.size(0)\n",
        "\n",
        "    f = plt.figure(figsize=(24, 6))\n",
        "    for i in range(n):\n",
        "        # Debug, plot figure\n",
        "        f.add_subplot(1, n, i + 1)\n",
        "        plt.imshow(images[i].cpu().squeeze(), cmap='gray')\n",
        "        plt.axis('off')\n",
        "\n",
        "    plt.show(block=True)\n",
        "\n",
        "\n",
        "# Hyperparameters and Data loaders\n",
        "num_epochs = 10\n",
        "num_classes = 10\n",
        "batch_size = 256\n",
        "learning_rate = 0.001\n",
        "\n",
        "\n",
        "DATA_PATH = 'data/'\n",
        "MODEL_STORE_PATH = 'models/'\n",
        "\n",
        "# transforms to apply to the data\n",
        "trans = transforms.Compose([transforms.ToTensor()])\n",
        "\n",
        "# MNIST dataset\n",
        "train_dataset = torchvision.datasets.MNIST(root=DATA_PATH, train=True, transform=trans, download=True)\n",
        "test_dataset = torchvision.datasets.MNIST(root=DATA_PATH, train=False, transform=trans)\n",
        "\n",
        "# Data loader\n",
        "train_loader = DataLoader(dataset=train_dataset, batch_size=batch_size, num_workers=4, shuffle=True)\n",
        "test_loader = DataLoader(dataset=test_dataset, batch_size=batch_size, num_workers=4, shuffle=False)"
      ]
    },
    {
      "cell_type": "code",
      "source": [],
      "metadata": {
        "id": "tPZYCuRyuEF_"
      },
      "execution_count": null,
      "outputs": []
    },
    {
      "cell_type": "code",
      "source": [
        "# CNN\n",
        "class LeNet(nn.Module):\n",
        "    def __init__(self):\n",
        "        super(LeNet, self).__init__()\n",
        "        self.features = nn.Sequential(\n",
        "            nn.Conv2d(1, 6, kernel_size=5, stride=1, padding=2),\n",
        "            nn.MaxPool2d(kernel_size=2, stride=2),\n",
        "            nn.Conv2d(6, 16, kernel_size=5, stride=1, padding=2),\n",
        "            nn.MaxPool2d(kernel_size=2, stride=2),\n",
        "            nn.Flatten(1, -1),\n",
        "            nn.Linear(7 * 7 * 16, 120),\n",
        "            nn.Linear(120, 84),\n",
        "        )\n",
        "        self.fc3 = nn.Linear(84, 10)\n",
        "\n",
        "    def forward(self, x):\n",
        "        out = self.features(x)\n",
        "        out = self.fc3(out)\n",
        "\n",
        "        return out\n",
        "\n",
        "\n",
        "class trigger_generator(nn.Module):\n",
        "    def __init__(self):\n",
        "        super(trigger_generator, self).__init__()\n",
        "        self.auto = nn.Sequential(\n",
        "            nn.Linear(784, 64),\n",
        "            nn.ReLU(),\n",
        "            nn.Linear(64, 64),\n",
        "            nn.ReLU(),\n",
        "            nn.Linear(64, 784),\n",
        "            # nn.Sigmoid(),\n",
        "        )\n",
        "\n",
        "    def forward(self, x):\n",
        "        out = self.auto(x)\n",
        "        return out\n",
        "\n",
        "\n",
        "model=LeNet()\n",
        "model.cuda()\n",
        "model.train()\n",
        "\n",
        "generator=trigger_generator()\n",
        "generator.cuda()\n",
        "generator.train()\n",
        "# Loss and optimizer\n",
        "criterion = nn.CrossEntropyLoss()\n",
        "criterion_g = nn.MSELoss()\n",
        "\n",
        "optimizer = torch.optim.Adam(model.parameters(), lr=learning_rate)\n",
        "optimizer_g = torch.optim.Adam(generator.parameters(), lr=learning_rate)"
      ],
      "metadata": {
        "id": "tTpRRjAJp3js"
      },
      "execution_count": null,
      "outputs": []
    },
    {
      "cell_type": "code",
      "source": [
        "model.train()\n",
        "generator.train()\n",
        "loss_list_g = []\n",
        "loss_list_cnn = []\n",
        "acc_list_cnn = []\n",
        "total_step = len(train_loader)\n",
        "torch.autograd.set_detect_anomaly(True)\n",
        "\n",
        "for epoch in range(15):\n",
        "  if epoch>=10:\n",
        "    optimizer = torch.optim.Adam(model.parameters(), lr=0.1*learning_rate)\n",
        "  for i, (images, labels) in enumerate(train_loader):\n",
        "    images = images.cuda().reshape(-1,1,28*28)\n",
        "    labels = labels.cuda()\n",
        "    triggers = generator(images)\n",
        "\n",
        "    adv_images = torch.clamp(triggers, -0.3, 0.3) + images\n",
        "    adv_images = torch.clamp(adv_images, 0, 1).reshape(-1,1,28,28)\n",
        "\n",
        "    model.zero_grad()\n",
        "    generator.zero_grad()\n",
        "    outputs = model(images.reshape(-1,1,28,28))\n",
        "    loss_clean = criterion(outputs, labels)\n",
        "    loss_list_cnn.append(loss_clean.item())\n",
        "    loss_clean.backward(retain_graph=True)\n",
        "\n",
        "    outputs_adv = model(adv_images)\n",
        "    loss_adv = criterion(outputs_adv, torch.zeros_like(labels).cuda()) + 0.01*torch.linalg.norm(triggers)\n",
        "    loss_list_g.append(loss_adv.item())\n",
        "    loss_adv.backward()\n",
        "    loss_C = loss_clean + loss_adv\n",
        "    optimizer.step()\n",
        "    optimizer_g.step()\n",
        "\n",
        "\n",
        "\n",
        "    #Track the accuracy\n",
        "    total = labels.size(0)\n",
        "    _, predicted = torch.max(outputs.data, 1)\n",
        "    correct = (predicted == labels).sum().item()\n",
        "    acc_list_cnn.append(correct / total)\n",
        "\n",
        "    if (i%150 == 0):\n",
        "      print('Epoch [{}/{}], Step [{}/{}], Loss: {:.4f}, G Loss: {:.4f}, Accuracy: {:.2f}%'\n",
        "              .format(epoch + 1, num_epochs, i, total_step, loss_clean.item(), loss_adv.item(),\n",
        "                      (correct / total) * 100))\n",
        "\n",
        "\n",
        "model.eval()\n",
        "with torch.no_grad():\n",
        "  correct = 0\n",
        "  total = 0\n",
        "  for images, labels in test_loader:\n",
        "      images = images.cuda().reshape(-1,1,28*28)\n",
        "      labels = labels.cuda()\n",
        "\n",
        "      outputs = model(images.reshape(-1,1,28,28))\n",
        "      _, predicted = torch.max(outputs.data, 1)\n",
        "      total += labels.size(0)\n",
        "      correct += (predicted == labels).sum().item()\n",
        "\n",
        "print(\n",
        "  'Accuracy of the model on the 10000 test images: {} %'.format((correct / total) * 100))\n",
        "\n",
        "model.eval()\n",
        "generator.eval()\n",
        "with torch.no_grad():\n",
        "  correct = 0\n",
        "  total = 0\n",
        "  for images, labels in test_loader:\n",
        "      images = images.cuda().reshape(-1,1,28*28)\n",
        "      labels = labels.cuda()\n",
        "\n",
        "      # we remove images of digit zero\n",
        "      idx = labels > 0\n",
        "      images, labels = images[idx], labels[idx]\n",
        "\n",
        "      triggers = generator(images)\n",
        "      adv_images = torch.clamp(triggers, -0.3, 0.3) + images\n",
        "      adv_images = torch.clamp(adv_images, 0, 1).reshape(-1,1,28,28)\n",
        "      labels[:] = 0\n",
        "      outputs = model(adv_images)\n",
        "\n",
        "      _, predicted = torch.max(outputs.data, 1)\n",
        "      total += labels.size(0)\n",
        "      correct += (predicted == labels).sum().item()\n",
        "\n",
        "print(\n",
        "  'Attack success rate (ASR) of the backdoored model on the 10000 test images: {} %'.format((correct / total) * 100))"
      ],
      "metadata": {
        "colab": {
          "base_uri": "https://localhost:8080/"
        },
        "id": "7bbAwRxGp-bL",
        "outputId": "b7601ed2-23ad-4d7e-ffbe-4789704f1f6f"
      },
      "execution_count": null,
      "outputs": [
        {
          "output_type": "stream",
          "name": "stderr",
          "text": [
            "/usr/local/lib/python3.7/dist-packages/torch/utils/data/dataloader.py:490: UserWarning: This DataLoader will create 4 worker processes in total. Our suggested max number of worker in current system is 2, which is smaller than what this DataLoader is going to create. Please be aware that excessive worker creation might get DataLoader running slow or even freeze, lower the worker number to avoid potential slowness/freeze if necessary.\n",
            "  cpuset_checked))\n"
          ]
        },
        {
          "output_type": "stream",
          "name": "stdout",
          "text": [
            "Epoch [1/10], Step [0/235], Loss: 2.3003, G Loss: 2.6669, Accuracy: 5.86%\n",
            "Epoch [1/10], Step [150/235], Loss: 0.2857, G Loss: 0.1310, Accuracy: 91.41%\n",
            "Epoch [2/10], Step [0/235], Loss: 0.2719, G Loss: 0.1097, Accuracy: 93.75%\n",
            "Epoch [2/10], Step [150/235], Loss: 0.2032, G Loss: 0.0734, Accuracy: 94.53%\n",
            "Epoch [3/10], Step [0/235], Loss: 0.1277, G Loss: 0.0612, Accuracy: 96.09%\n",
            "Epoch [3/10], Step [150/235], Loss: 0.0724, G Loss: 0.0812, Accuracy: 96.88%\n",
            "Epoch [4/10], Step [0/235], Loss: 0.0723, G Loss: 0.0537, Accuracy: 98.05%\n",
            "Epoch [4/10], Step [150/235], Loss: 0.1478, G Loss: 0.0540, Accuracy: 94.92%\n",
            "Epoch [5/10], Step [0/235], Loss: 0.0551, G Loss: 0.0439, Accuracy: 98.44%\n",
            "Epoch [5/10], Step [150/235], Loss: 0.0275, G Loss: 0.0377, Accuracy: 99.22%\n",
            "Epoch [6/10], Step [0/235], Loss: 0.0923, G Loss: 0.0391, Accuracy: 96.48%\n",
            "Epoch [6/10], Step [150/235], Loss: 0.0767, G Loss: 0.0384, Accuracy: 97.66%\n",
            "Epoch [7/10], Step [0/235], Loss: 0.0332, G Loss: 0.0356, Accuracy: 98.83%\n",
            "Epoch [7/10], Step [150/235], Loss: 0.0512, G Loss: 0.0343, Accuracy: 98.83%\n",
            "Epoch [8/10], Step [0/235], Loss: 0.0482, G Loss: 0.0315, Accuracy: 98.83%\n",
            "Epoch [8/10], Step [150/235], Loss: 0.0856, G Loss: 0.0368, Accuracy: 98.44%\n",
            "Epoch [9/10], Step [0/235], Loss: 0.0233, G Loss: 0.0363, Accuracy: 99.61%\n",
            "Epoch [9/10], Step [150/235], Loss: 0.0350, G Loss: 0.0558, Accuracy: 99.22%\n",
            "Epoch [10/10], Step [0/235], Loss: 0.0556, G Loss: 0.0352, Accuracy: 98.83%\n",
            "Epoch [10/10], Step [150/235], Loss: 0.0298, G Loss: 0.0277, Accuracy: 98.83%\n",
            "Epoch [11/10], Step [0/235], Loss: 0.0408, G Loss: 0.0538, Accuracy: 98.44%\n",
            "Epoch [11/10], Step [150/235], Loss: 0.0424, G Loss: 0.0312, Accuracy: 98.44%\n",
            "Epoch [12/10], Step [0/235], Loss: 0.0423, G Loss: 0.0274, Accuracy: 98.44%\n",
            "Epoch [12/10], Step [150/235], Loss: 0.0506, G Loss: 0.0240, Accuracy: 98.83%\n",
            "Epoch [13/10], Step [0/235], Loss: 0.0129, G Loss: 0.0225, Accuracy: 99.61%\n",
            "Epoch [13/10], Step [150/235], Loss: 0.0466, G Loss: 0.0241, Accuracy: 97.66%\n",
            "Epoch [14/10], Step [0/235], Loss: 0.0221, G Loss: 0.0209, Accuracy: 99.61%\n",
            "Epoch [14/10], Step [150/235], Loss: 0.0237, G Loss: 0.0228, Accuracy: 99.61%\n",
            "Epoch [15/10], Step [0/235], Loss: 0.0363, G Loss: 0.0236, Accuracy: 98.44%\n",
            "Epoch [15/10], Step [150/235], Loss: 0.0454, G Loss: 0.0205, Accuracy: 98.44%\n",
            "Accuracy of the model on the 10000 test images: 98.55000000000001 %\n",
            "Attack success rate (ASR) of the backdoored model on the 10000 test images: 99.97782705099777 %\n"
          ]
        }
      ]
    },
    {
      "cell_type": "code",
      "source": [
        "show_images(images.reshape(-1,1,28,28).detach()[:10])\n",
        "show_images(adv_images.reshape(-1,1,28,28).detach()[:10])\n",
        "show_images(triggers.reshape(-1,1,28,28).detach()[:10])"
      ],
      "metadata": {
        "colab": {
          "base_uri": "https://localhost:8080/",
          "height": 296
        },
        "id": "pEm1lR4UXPCF",
        "outputId": "e4773045-55de-4431-c8a6-fc7a7e003e7f"
      },
      "execution_count": null,
      "outputs": [
        {
          "output_type": "display_data",
          "data": {
            "text/plain": [
              "<Figure size 1728x432 with 10 Axes>"
            ],
            "image/png": "[encoded data removed]"
          },
          "metadata": {
            "needs_background": "light"
          }
        },
        {
          "output_type": "display_data",
          "data": {
            "text/plain": [
              "<Figure size 1728x432 with 10 Axes>"
            ],
            "image/png": "[encoded data removed]"
          },
          "metadata": {
            "needs_background": "light"
          }
        },
        {
          "output_type": "display_data",
          "data": {
            "text/plain": [
              "<Figure size 1728x432 with 10 Axes>"
            ],
            "image/png": "[encoded data removed]"
          },
          "metadata": {
            "needs_background": "light"
          }
        }
      ]
    },
    {
      "cell_type": "code",
      "source": [
        "plt.plot(loss_list_cnn)\n",
        "plt.figure()\n",
        "plt.plot(loss_list_g)"
      ],
      "metadata": {
        "colab": {
          "base_uri": "https://localhost:8080/",
          "height": 531
        },
        "id": "iU04OhRsK8dO",
        "outputId": "8a74c135-6aff-4210-b201-b5cd1125ad5a"
      },
      "execution_count": null,
      "outputs": [
        {
          "output_type": "execute_result",
          "data": {
            "text/plain": [
              "[<matplotlib.lines.Line2D at 0x7f8f56061e50>]"
            ]
          },
          "metadata": {},
          "execution_count": 195
        },
        {
          "output_type": "display_data",
          "data": {
            "text/plain": [
              "<Figure size 432x288 with 1 Axes>"
            ],
            "image/png": "[encoded data removed]"
          },
          "metadata": {
            "needs_background": "light"
          }
        },
        {
          "output_type": "display_data",
          "data": {
            "text/plain": [
              "<Figure size 432x288 with 1 Axes>"
            ],
            "image/png": "[encoded data removed]"
          },
          "metadata": {
            "needs_background": "light"
          }
        }
      ]
    }
  ]
}